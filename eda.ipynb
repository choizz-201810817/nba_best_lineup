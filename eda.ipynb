{
 "cells": [
  {
   "cell_type": "code",
   "execution_count": 44,
   "metadata": {},
   "outputs": [],
   "source": [
    "import pandas as pd\n",
    "import numpy as np\n",
    "\n",
    "import seaborn as sns\n",
    "import matplotlib.pyplot as plt\n",
    "\n",
    "import os"
   ]
  },
  {
   "cell_type": "code",
   "execution_count": 45,
   "metadata": {},
   "outputs": [],
   "source": [
    "# 각 데이터에 season 컬럼 추가\n",
    "ply_path = f\"./data/traditional/player_stats/\"\n",
    "team_path = f\"./data/traditional/team_stats/\"\n",
    "\n",
    "plyDfs = []\n",
    "teamDfs = []\n",
    "for (root, dir, files) in os.walk(ply_path):\n",
    "    for file in files:\n",
    "        df = pd.read_csv(ply_path+file).drop([\"Unnamed: 0\"],axis=1)\n",
    "        df[\"season\"] = \"'\"+file[2:7]\n",
    "        plyDfs.append(df)\n",
    "\n",
    "for (root, dir, files) in os.walk(team_path):\n",
    "    for file in files:\n",
    "        df = pd.read_csv(team_path+file).drop([\"Unnamed: 0\"],axis=1)\n",
    "        df[\"season\"] = \"'\"+file[2:7]\n",
    "        teamDfs.append(df)"
   ]
  },
  {
   "cell_type": "code",
   "execution_count": 46,
   "metadata": {},
   "outputs": [],
   "source": [
    "# 작업 편의를 위해 컬럼명을 소문자로 변경\n",
    "for df1, df2 in zip(plyDfs, teamDfs):\n",
    "    df1.columns = df1.columns.str.lower()\n",
    "    df2.columns = df2.columns.str.lower()"
   ]
  },
  {
   "cell_type": "code",
   "execution_count": 47,
   "metadata": {},
   "outputs": [],
   "source": [
    "# 작업한 내용을 csv로 저장\n",
    "for (root, dir, files) in os.walk(ply_path):\n",
    "    for i, file in enumerate(files):\n",
    "        plyDfs[i].to_csv(ply_path+file)\n",
    "\n",
    "for (root, dir, files) in os.walk(team_path):\n",
    "    for i, file in enumerate(files):\n",
    "        teamDfs[i].to_csv(team_path+file)"
   ]
  },
  {
   "cell_type": "code",
   "execution_count": 49,
   "metadata": {},
   "outputs": [],
   "source": [
    "# \n",
    "ply_path = f\"./data/traditional/player_stats/\"\n",
    "team_path = f\"./data/traditional/team_stats/\"\n",
    "\n",
    "plyDfs = []\n",
    "teamDfs = []\n",
    "for (root, dir, files) in os.walk(ply_path):\n",
    "    for file in files:\n",
    "        df = pd.read_csv(ply_path+file).drop([\"Unnamed: 0\"],axis=1)\n",
    "        plyDfs.append(df)\n",
    "\n",
    "for (root, dir, files) in os.walk(team_path):\n",
    "    for file in files:\n",
    "        df = pd.read_csv(team_path+file).drop([\"Unnamed: 0\"],axis=1)\n",
    "        teamDfs.append(df)"
   ]
  },
  {
   "cell_type": "code",
   "execution_count": 50,
   "metadata": {},
   "outputs": [],
   "source": [
    "teamDf = pd.concat(teamDfs).reset_index(drop=True)\n",
    "plyDf = pd.concat(plyDfs).reset_index(drop=True)"
   ]
  },
  {
   "cell_type": "code",
   "execution_count": 51,
   "metadata": {},
   "outputs": [],
   "source": [
    "teamDf.to_csv(\"./data/team_traditional.csv\")\n",
    "plyDf.to_csv(\"./data/plyer_traditional.csv\")"
   ]
  },
  {
   "cell_type": "code",
   "execution_count": null,
   "metadata": {},
   "outputs": [],
   "source": [
    "teamDf"
   ]
  }
 ],
 "metadata": {
  "kernelspec": {
   "display_name": "nbaEnv",
   "language": "python",
   "name": "python3"
  },
  "language_info": {
   "codemirror_mode": {
    "name": "ipython",
    "version": 3
   },
   "file_extension": ".py",
   "mimetype": "text/x-python",
   "name": "python",
   "nbconvert_exporter": "python",
   "pygments_lexer": "ipython3",
   "version": "3.9.15"
  },
  "orig_nbformat": 4,
  "vscode": {
   "interpreter": {
    "hash": "58d5354d4e3850551441cef0d908528b56304d2251198b959e3b8ed0252fb0d6"
   }
  }
 },
 "nbformat": 4,
 "nbformat_minor": 2
}
