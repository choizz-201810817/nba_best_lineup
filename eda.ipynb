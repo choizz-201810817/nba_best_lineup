{
 "cells": [
  {
   "cell_type": "code",
   "execution_count": 1,
   "metadata": {},
   "outputs": [],
   "source": [
    "import pandas as pd\n",
    "import numpy as np\n",
    "\n",
    "import seaborn as sns\n",
    "import matplotlib.pyplot as plt\n",
    "\n",
    "import os"
   ]
  },
  {
   "cell_type": "code",
   "execution_count": 7,
   "metadata": {},
   "outputs": [],
   "source": [
    "plyPath = \"./data/players/\"\n",
    "teamPath = \"./data/teams/\"\n",
    "\n",
    "plyDfs = []\n",
    "teamDfs = []\n",
    "for (root, dir, files) in os.walk(plyPath):\n",
    "    for file in files:\n",
    "        df = pd.read_csv(plyPath+file).drop([\"Unnamed: 0\"], axis=1)\n",
    "        plyDfs.append(df)\n",
    "\n",
    "for (root, dir, files) in os.walk(teamPath):\n",
    "    for file in files:\n",
    "        df = pd.read_csv(teamPath+file).drop([\"Unnamed: 0\"], axis=1)\n",
    "        teamDfs.append(df)"
   ]
  },
  {
   "cell_type": "code",
   "execution_count": 12,
   "metadata": {},
   "outputs": [
    {
     "name": "stdout",
     "output_type": "stream",
     "text": [
      "Index(['#', 'player', 'team', 'age', 'gp', 'w', 'l', 'min', 'offrtg', 'defrtg',\n",
      "       'netrtg', 'ast%', 'ast/to', 'ast ratio', 'oreb%', 'dreb%', 'reb%',\n",
      "       'to ratio', 'efg%', 'ts%', 'usg%', 'pace', 'pie', 'poss', 'season'],\n",
      "      dtype='object')\n",
      "11477\n",
      "Index(['#', 'player', 'team', 'age', 'gp', 'w', 'l', 'min', 'def rtg', 'dreb',\n",
      "       'dreb%', '%dreb', 'stl', 'stl%', 'blk', '%blk', 'opp pts\\noff tov',\n",
      "       'opp pts\\n2nd chance', 'opp pts\\nfb', 'opp pts\\npaint', 'def\\nws',\n",
      "       'season'],\n",
      "      dtype='object')\n",
      "11478\n",
      "Index(['#', 'player', 'gp', 'w', 'l', 'min', 'est. \\noffrtg', 'est. \\ndefrtg',\n",
      "       'est. \\nnetrtg', 'est. \\nast ratio', 'est. \\noreb%', 'est. \\ndreb%',\n",
      "       'est. \\nreb%', 'est. \\nto ratio', 'est. \\nusg%', 'est. \\npace',\n",
      "       'season'],\n",
      "      dtype='object')\n",
      "11478\n",
      "Index(['#', 'player', 'team', 'age', 'gp', 'w', 'l', 'min', 'pts\\noff to',\n",
      "       '2nd\\npts', 'fbps', 'pitp', 'opp pts\\noff to', 'opp\\n2nd pts',\n",
      "       'opp\\nfbps', 'opp\\npitp', 'blk', 'blka', 'pf', 'pfd', 'season'],\n",
      "      dtype='object')\n",
      "11478\n",
      "Index(['#', 'player', 'team', 'age', 'gp', 'w', 'l', 'min', '%fga\\n2pt',\n",
      "       '%fga\\n3pt', '%pts\\n2pt', '%pts\\n2pt mr', '%pts\\n3pt', '%pts\\nfbps',\n",
      "       '%pts\\nft', '%pts\\noffto', '%pts\\npitp', '2fgm\\n%ast', '2fgm\\n%uast',\n",
      "       '3fgm\\n%ast', '3fgm\\n%uast', 'fgm\\n%ast', 'fgm\\n%uast', 'season'],\n",
      "      dtype='object')\n",
      "11478\n",
      "Index(['#', 'player', 'team', 'age', 'gp', 'w', 'l', 'min', 'pts', 'fgm',\n",
      "       'fga', 'fg%', '3pm', '3pa', '3p%', 'ftm', 'fta', 'ft%', 'oreb', 'dreb',\n",
      "       'reb', 'ast', 'tov', 'stl', 'blk', 'pf', 'fp', 'dd2', 'td3', '+/-',\n",
      "       'season'],\n",
      "      dtype='object')\n",
      "11477\n",
      "Index(['#', 'player', 'team', 'age', 'gp', 'w', 'l', 'min', 'usg%', '%fgm',\n",
      "       '%fga', '%3pm', '%3pa', '%ftm', '%fta', '%oreb', '%dreb', '%reb',\n",
      "       '%ast', '%tov', '%stl', '%blk', '%blka', '%pf', '%pfd', '%pts',\n",
      "       'season'],\n",
      "      dtype='object')\n",
      "11478\n"
     ]
    }
   ],
   "source": [
    "for df in plyDfs:\n",
    "    print(df.columns)\n",
    "    print(len(df))"
   ]
  },
  {
   "cell_type": "code",
   "execution_count": 38,
   "metadata": {},
   "outputs": [],
   "source": [
    "seasons = [\"'99-00\", \"'00-01\", \"'01-02\", \"'02-03\", \"'03-04\", \"'04-05\", \"'05-06\"\n",
    ", \"'06-07\", \"'07-08\", \"'08-09\", \"'09-10\", \"'10-11\", \"'11-12\", \"'12-13\", \"'13-14\"\n",
    ", \"'14-15\", \"'15-16\", \"'16-17\", \"'17-18\", \"'18-19\", \"'19-20\", \"'20-21\", \"'21-22\"\n",
    ", \"'22-23\"]\n",
    "\n",
    "concatDfs = []\n",
    "for season in seasons:\n",
    "\n",
    "    seasonDfs = []\n",
    "    for df in plyDfs:\n",
    "        seasonDfs.append(df[df[\"season\"]==season])\n",
    "\n",
    "    concatDfs.append(pd.concat(seasonDfs, axis=1))\n",
    "\n"
   ]
  },
  {
   "cell_type": "code",
   "execution_count": 44,
   "metadata": {},
   "outputs": [
    {
     "data": {
      "text/plain": [
       "Index(['#', 'player', 'team', 'age', 'gp', 'w', 'l', 'min', 'offrtg', 'defrtg',\n",
       "       ...\n",
       "       '%fta', '%oreb', '%reb', '%ast', '%tov', '%stl', '%blka', '%pf', '%pfd',\n",
       "       '%pts'],\n",
       "      dtype='object', length=106)"
      ]
     },
     "execution_count": 44,
     "metadata": {},
     "output_type": "execute_result"
    }
   ],
   "source": [
    "concatDfs[0].columns.unique()"
   ]
  },
  {
   "cell_type": "code",
   "execution_count": null,
   "metadata": {},
   "outputs": [],
   "source": []
  }
 ],
 "metadata": {
  "kernelspec": {
   "display_name": "nbaEnv",
   "language": "python",
   "name": "python3"
  },
  "language_info": {
   "codemirror_mode": {
    "name": "ipython",
    "version": 3
   },
   "file_extension": ".py",
   "mimetype": "text/x-python",
   "name": "python",
   "nbconvert_exporter": "python",
   "pygments_lexer": "ipython3",
   "version": "3.9.15"
  },
  "orig_nbformat": 4,
  "vscode": {
   "interpreter": {
    "hash": "58d5354d4e3850551441cef0d908528b56304d2251198b959e3b8ed0252fb0d6"
   }
  }
 },
 "nbformat": 4,
 "nbformat_minor": 2
}
